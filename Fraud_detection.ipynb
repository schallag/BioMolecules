{
  "nbformat": 4,
  "nbformat_minor": 0,
  "metadata": {
    "colab": {
      "provenance": [],
      "authorship_tag": "ABX9TyO9IDlcGJytrw4SDddgiaZS",
      "include_colab_link": true
    },
    "kernelspec": {
      "name": "python3",
      "display_name": "Python 3"
    },
    "language_info": {
      "name": "python"
    }
  },
  "cells": [
    {
      "cell_type": "markdown",
      "metadata": {
        "id": "view-in-github",
        "colab_type": "text"
      },
      "source": [
        "<a href=\"https://colab.research.google.com/github/schallag/BioMolecules/blob/main/Fraud_detection.ipynb\" target=\"_parent\"><img src=\"https://colab.research.google.com/assets/colab-badge.svg\" alt=\"Open In Colab\"/></a>"
      ]
    },
    {
      "cell_type": "code",
      "execution_count": 3,
      "metadata": {
        "colab": {
          "base_uri": "https://localhost:8080/",
          "height": 73
        },
        "id": "Xc_aNX3BXMZy",
        "outputId": "944e998d-df48-4315-d35a-349ca8a8d65a"
      },
      "outputs": [
        {
          "output_type": "display_data",
          "data": {
            "text/plain": [
              "<IPython.core.display.HTML object>"
            ],
            "text/html": [
              "\n",
              "     <input type=\"file\" id=\"files-9b7f791b-0b9d-4a9e-b75c-1936b2792008\" name=\"files[]\" multiple disabled\n",
              "        style=\"border:none\" />\n",
              "     <output id=\"result-9b7f791b-0b9d-4a9e-b75c-1936b2792008\">\n",
              "      Upload widget is only available when the cell has been executed in the\n",
              "      current browser session. Please rerun this cell to enable.\n",
              "      </output>\n",
              "      <script>// Copyright 2017 Google LLC\n",
              "//\n",
              "// Licensed under the Apache License, Version 2.0 (the \"License\");\n",
              "// you may not use this file except in compliance with the License.\n",
              "// You may obtain a copy of the License at\n",
              "//\n",
              "//      http://www.apache.org/licenses/LICENSE-2.0\n",
              "//\n",
              "// Unless required by applicable law or agreed to in writing, software\n",
              "// distributed under the License is distributed on an \"AS IS\" BASIS,\n",
              "// WITHOUT WARRANTIES OR CONDITIONS OF ANY KIND, either express or implied.\n",
              "// See the License for the specific language governing permissions and\n",
              "// limitations under the License.\n",
              "\n",
              "/**\n",
              " * @fileoverview Helpers for google.colab Python module.\n",
              " */\n",
              "(function(scope) {\n",
              "function span(text, styleAttributes = {}) {\n",
              "  const element = document.createElement('span');\n",
              "  element.textContent = text;\n",
              "  for (const key of Object.keys(styleAttributes)) {\n",
              "    element.style[key] = styleAttributes[key];\n",
              "  }\n",
              "  return element;\n",
              "}\n",
              "\n",
              "// Max number of bytes which will be uploaded at a time.\n",
              "const MAX_PAYLOAD_SIZE = 100 * 1024;\n",
              "\n",
              "function _uploadFiles(inputId, outputId) {\n",
              "  const steps = uploadFilesStep(inputId, outputId);\n",
              "  const outputElement = document.getElementById(outputId);\n",
              "  // Cache steps on the outputElement to make it available for the next call\n",
              "  // to uploadFilesContinue from Python.\n",
              "  outputElement.steps = steps;\n",
              "\n",
              "  return _uploadFilesContinue(outputId);\n",
              "}\n",
              "\n",
              "// This is roughly an async generator (not supported in the browser yet),\n",
              "// where there are multiple asynchronous steps and the Python side is going\n",
              "// to poll for completion of each step.\n",
              "// This uses a Promise to block the python side on completion of each step,\n",
              "// then passes the result of the previous step as the input to the next step.\n",
              "function _uploadFilesContinue(outputId) {\n",
              "  const outputElement = document.getElementById(outputId);\n",
              "  const steps = outputElement.steps;\n",
              "\n",
              "  const next = steps.next(outputElement.lastPromiseValue);\n",
              "  return Promise.resolve(next.value.promise).then((value) => {\n",
              "    // Cache the last promise value to make it available to the next\n",
              "    // step of the generator.\n",
              "    outputElement.lastPromiseValue = value;\n",
              "    return next.value.response;\n",
              "  });\n",
              "}\n",
              "\n",
              "/**\n",
              " * Generator function which is called between each async step of the upload\n",
              " * process.\n",
              " * @param {string} inputId Element ID of the input file picker element.\n",
              " * @param {string} outputId Element ID of the output display.\n",
              " * @return {!Iterable<!Object>} Iterable of next steps.\n",
              " */\n",
              "function* uploadFilesStep(inputId, outputId) {\n",
              "  const inputElement = document.getElementById(inputId);\n",
              "  inputElement.disabled = false;\n",
              "\n",
              "  const outputElement = document.getElementById(outputId);\n",
              "  outputElement.innerHTML = '';\n",
              "\n",
              "  const pickedPromise = new Promise((resolve) => {\n",
              "    inputElement.addEventListener('change', (e) => {\n",
              "      resolve(e.target.files);\n",
              "    });\n",
              "  });\n",
              "\n",
              "  const cancel = document.createElement('button');\n",
              "  inputElement.parentElement.appendChild(cancel);\n",
              "  cancel.textContent = 'Cancel upload';\n",
              "  const cancelPromise = new Promise((resolve) => {\n",
              "    cancel.onclick = () => {\n",
              "      resolve(null);\n",
              "    };\n",
              "  });\n",
              "\n",
              "  // Wait for the user to pick the files.\n",
              "  const files = yield {\n",
              "    promise: Promise.race([pickedPromise, cancelPromise]),\n",
              "    response: {\n",
              "      action: 'starting',\n",
              "    }\n",
              "  };\n",
              "\n",
              "  cancel.remove();\n",
              "\n",
              "  // Disable the input element since further picks are not allowed.\n",
              "  inputElement.disabled = true;\n",
              "\n",
              "  if (!files) {\n",
              "    return {\n",
              "      response: {\n",
              "        action: 'complete',\n",
              "      }\n",
              "    };\n",
              "  }\n",
              "\n",
              "  for (const file of files) {\n",
              "    const li = document.createElement('li');\n",
              "    li.append(span(file.name, {fontWeight: 'bold'}));\n",
              "    li.append(span(\n",
              "        `(${file.type || 'n/a'}) - ${file.size} bytes, ` +\n",
              "        `last modified: ${\n",
              "            file.lastModifiedDate ? file.lastModifiedDate.toLocaleDateString() :\n",
              "                                    'n/a'} - `));\n",
              "    const percent = span('0% done');\n",
              "    li.appendChild(percent);\n",
              "\n",
              "    outputElement.appendChild(li);\n",
              "\n",
              "    const fileDataPromise = new Promise((resolve) => {\n",
              "      const reader = new FileReader();\n",
              "      reader.onload = (e) => {\n",
              "        resolve(e.target.result);\n",
              "      };\n",
              "      reader.readAsArrayBuffer(file);\n",
              "    });\n",
              "    // Wait for the data to be ready.\n",
              "    let fileData = yield {\n",
              "      promise: fileDataPromise,\n",
              "      response: {\n",
              "        action: 'continue',\n",
              "      }\n",
              "    };\n",
              "\n",
              "    // Use a chunked sending to avoid message size limits. See b/62115660.\n",
              "    let position = 0;\n",
              "    do {\n",
              "      const length = Math.min(fileData.byteLength - position, MAX_PAYLOAD_SIZE);\n",
              "      const chunk = new Uint8Array(fileData, position, length);\n",
              "      position += length;\n",
              "\n",
              "      const base64 = btoa(String.fromCharCode.apply(null, chunk));\n",
              "      yield {\n",
              "        response: {\n",
              "          action: 'append',\n",
              "          file: file.name,\n",
              "          data: base64,\n",
              "        },\n",
              "      };\n",
              "\n",
              "      let percentDone = fileData.byteLength === 0 ?\n",
              "          100 :\n",
              "          Math.round((position / fileData.byteLength) * 100);\n",
              "      percent.textContent = `${percentDone}% done`;\n",
              "\n",
              "    } while (position < fileData.byteLength);\n",
              "  }\n",
              "\n",
              "  // All done.\n",
              "  yield {\n",
              "    response: {\n",
              "      action: 'complete',\n",
              "    }\n",
              "  };\n",
              "}\n",
              "\n",
              "scope.google = scope.google || {};\n",
              "scope.google.colab = scope.google.colab || {};\n",
              "scope.google.colab._files = {\n",
              "  _uploadFiles,\n",
              "  _uploadFilesContinue,\n",
              "};\n",
              "})(self);\n",
              "</script> "
            ]
          },
          "metadata": {}
        },
        {
          "output_type": "stream",
          "name": "stdout",
          "text": [
            "Saving frauddetect.zip to frauddetect (1).zip\n"
          ]
        }
      ],
      "source": [
        "from google.colab import files\n",
        "uploaded = files.upload()"
      ]
    },
    {
      "cell_type": "code",
      "source": [
        "import os\n",
        "os.listdir(\"/content/\")"
      ],
      "metadata": {
        "colab": {
          "base_uri": "https://localhost:8080/"
        },
        "id": "8_ThJ_eDZFhl",
        "outputId": "5d86136c-7a50-4b29-e4a4-724cc095af3f"
      },
      "execution_count": 4,
      "outputs": [
        {
          "output_type": "execute_result",
          "data": {
            "text/plain": [
              "['.config', 'frauddetect (1).zip', 'frauddetect.zip', 'sample_data']"
            ]
          },
          "metadata": {},
          "execution_count": 4
        }
      ]
    },
    {
      "cell_type": "code",
      "source": [
        "import zipfile\n",
        "import os\n",
        "\n",
        "zip_path = \"frauddetect.zip\"  # Change this if needed\n",
        "extract_path = \"/content/frauddetect\"\n",
        "\n",
        "with zipfile.ZipFile(zip_path, 'r') as zip_ref:\n",
        "    zip_ref.extractall(extract_path)\n",
        "\n",
        "# List extracted files\n",
        "os.listdir(extract_path)"
      ],
      "metadata": {
        "colab": {
          "base_uri": "https://localhost:8080/"
        },
        "id": "Ss0T4Z7AZRvr",
        "outputId": "930c4eef-ee26-45b4-b917-39aacf4a55fe"
      },
      "execution_count": 17,
      "outputs": [
        {
          "output_type": "execute_result",
          "data": {
            "text/plain": [
              "['train_transaction.csv',\n",
              " 'test_identity.csv',\n",
              " 'train_identity.csv',\n",
              " 'test_transaction.csv']"
            ]
          },
          "metadata": {},
          "execution_count": 17
        }
      ]
    },
    {
      "cell_type": "code",
      "source": [
        "import pandas as pd\n",
        "transaction_path = \"/content/frauddetect/train_transaction.csv\"\n",
        "identity_path = \"/content/frauddetect/train_identity.csv\"\n",
        "df_transaction = pd.read_csv(transaction_path)\n",
        "df_identity = pd.read_csv(identity_path)\n",
        "# Check if DataFrames exist in memory\n",
        "print(\"Transaction DataFrame exists:\", 'df_transaction' in globals())\n",
        "print(\"Identity DataFrame exists:\", 'df_identity' in globals())\n",
        "\n",
        "# Check first few rows if they exist\n",
        "try:\n",
        "    print(df_transaction.head())\n",
        "    print(df_identity.head())\n",
        "except NameError:\n",
        "    print(\"DataFrames are not loaded.\")"
      ],
      "metadata": {
        "colab": {
          "base_uri": "https://localhost:8080/"
        },
        "id": "eIVSwKn1erDi",
        "outputId": "9f90d1a6-e355-485e-fc87-134760213e23"
      },
      "execution_count": 23,
      "outputs": [
        {
          "output_type": "stream",
          "name": "stdout",
          "text": [
            "Transaction DataFrame exists: True\n",
            "Identity DataFrame exists: True\n",
            "   TransactionID  isFraud  TransactionDT  TransactionAmt ProductCD  card1  \\\n",
            "0        2987002        0          86469            59.0         W   4663   \n",
            "1        2987003        0          86499            50.0         W  18132   \n",
            "2        2987005        0          86510            49.0         W   5937   \n",
            "3        2987006        0          86522           159.0         W  12308   \n",
            "4        2987008        0          86535            15.0         H   2803   \n",
            "\n",
            "   card2  card3       card4  card5  ... V330  V331  V332  V333  V334 V335  \\\n",
            "0  490.0  150.0        visa  166.0  ...  NaN   NaN   NaN   NaN   NaN  NaN   \n",
            "1  567.0  150.0  mastercard  117.0  ...  NaN   NaN   NaN   NaN   NaN  NaN   \n",
            "2  555.0  150.0        visa  226.0  ...  NaN   NaN   NaN   NaN   NaN  NaN   \n",
            "3  360.0  150.0        visa  166.0  ...  NaN   NaN   NaN   NaN   NaN  NaN   \n",
            "4  100.0  150.0        visa  226.0  ...  0.0   0.0   0.0   0.0   0.0  0.0   \n",
            "\n",
            "  V336  V337  V338  V339  \n",
            "0  NaN   NaN   NaN   NaN  \n",
            "1  NaN   NaN   NaN   NaN  \n",
            "2  NaN   NaN   NaN   NaN  \n",
            "3  NaN   NaN   NaN   NaN  \n",
            "4  0.0   0.0   0.0   0.0  \n",
            "\n",
            "[5 rows x 394 columns]\n",
            "   TransactionID  id_01     id_02  id_03  id_04  id_05  id_06  id_07  id_08  \\\n",
            "0        2987008   -5.0   98945.0    NaN    NaN    0.0   -5.0    NaN    NaN   \n",
            "1        2987010   -5.0  191631.0    0.0    0.0    0.0    0.0    NaN    NaN   \n",
            "2        2987016    0.0    7460.0    0.0    0.0    1.0    0.0    NaN    NaN   \n",
            "3        2987040  -10.0  116098.0    0.0    0.0    0.0    0.0    NaN    NaN   \n",
            "4        2987048   -5.0  257037.0    NaN    NaN    0.0    0.0    NaN    NaN   \n",
            "\n",
            "   id_09  ...               id_31  id_32     id_33           id_34  id_35  \\\n",
            "0    NaN  ...  mobile safari 11.0   32.0  1334x750  match_status:1      T   \n",
            "1    0.0  ...         chrome 62.0    NaN       NaN             NaN      F   \n",
            "2    0.0  ...         chrome 62.0   24.0  1280x800  match_status:2      T   \n",
            "3    0.0  ...         chrome 62.0    NaN       NaN             NaN      F   \n",
            "4    NaN  ...         chrome 62.0    NaN       NaN             NaN      F   \n",
            "\n",
            "  id_36 id_37  id_38  DeviceType  DeviceInfo  \n",
            "0     F     F      T      mobile  iOS Device  \n",
            "1     F     T      T     desktop     Windows  \n",
            "2     F     T      T     desktop       MacOS  \n",
            "3     F     T      T     desktop     Windows  \n",
            "4     F     T      T     desktop     Windows  \n",
            "\n",
            "[5 rows x 41 columns]\n"
          ]
        }
      ]
    },
    {
      "cell_type": "code",
      "source": [
        "# Assuming df_transaction and df_identity are your DataFrames\n",
        "df_merged = df_transaction.merge(df_identity, on='TransactionID', how='left')\n",
        "print(df_merged.head())"
      ],
      "metadata": {
        "colab": {
          "base_uri": "https://localhost:8080/"
        },
        "id": "WIGqqhsmZ3Da",
        "outputId": "2fd18adc-bc7e-413f-e275-b6e361a7d3fd"
      },
      "execution_count": 28,
      "outputs": [
        {
          "output_type": "stream",
          "name": "stdout",
          "text": [
            "   TransactionID  isFraud  TransactionDT  TransactionAmt ProductCD  card1  \\\n",
            "0        2987002        0          86469            59.0         W   4663   \n",
            "1        2987003        0          86499            50.0         W  18132   \n",
            "2        2987005        0          86510            49.0         W   5937   \n",
            "3        2987006        0          86522           159.0         W  12308   \n",
            "4        2987008        0          86535            15.0         H   2803   \n",
            "\n",
            "   card2  card3       card4  card5  ...               id_31  id_32     id_33  \\\n",
            "0  490.0  150.0        visa  166.0  ...                 NaN    NaN       NaN   \n",
            "1  567.0  150.0  mastercard  117.0  ...                 NaN    NaN       NaN   \n",
            "2  555.0  150.0        visa  226.0  ...                 NaN    NaN       NaN   \n",
            "3  360.0  150.0        visa  166.0  ...                 NaN    NaN       NaN   \n",
            "4  100.0  150.0        visa  226.0  ...  mobile safari 11.0   32.0  1334x750   \n",
            "\n",
            "            id_34  id_35 id_36 id_37  id_38  DeviceType  DeviceInfo  \n",
            "0             NaN    NaN   NaN   NaN    NaN         NaN         NaN  \n",
            "1             NaN    NaN   NaN   NaN    NaN         NaN         NaN  \n",
            "2             NaN    NaN   NaN   NaN    NaN         NaN         NaN  \n",
            "3             NaN    NaN   NaN   NaN    NaN         NaN         NaN  \n",
            "4  match_status:1      T     F     F      T      mobile  iOS Device  \n",
            "\n",
            "[5 rows x 434 columns]\n"
          ]
        }
      ]
    }
  ]
}